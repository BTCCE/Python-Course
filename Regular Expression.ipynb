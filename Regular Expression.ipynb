{
 "cells": [
  {
   "cell_type": "markdown",
   "id": "d7ef5e90",
   "metadata": {},
   "source": [
    "## Find all function\n"
   ]
  },
  {
   "cell_type": "markdown",
   "id": "ed532430",
   "metadata": {},
   "source": [
    "### Example"
   ]
  },
  {
   "cell_type": "code",
   "execution_count": 1,
   "id": "06780ef8",
   "metadata": {},
   "outputs": [
    {
     "name": "stdout",
     "output_type": "stream",
     "text": [
      "['on', 'on']\n"
     ]
    }
   ],
   "source": [
    "import re\n",
    "txt=\"on the horizon\"\n",
    "x=re.findall(\"on\",txt)\n",
    "print (x)"
   ]
  },
  {
   "cell_type": "markdown",
   "id": "acfc12fc",
   "metadata": {},
   "source": [
    "## Search Function"
   ]
  },
  {
   "cell_type": "markdown",
   "id": "25c69cc6",
   "metadata": {},
   "source": [
    "### Example 1"
   ]
  },
  {
   "cell_type": "code",
   "execution_count": 2,
   "id": "8ab99b3b",
   "metadata": {},
   "outputs": [
    {
     "name": "stdout",
     "output_type": "stream",
     "text": [
      "The python word is located in position 0\n"
     ]
    }
   ],
   "source": [
    "import re\n",
    "txt=\"Python BTCCE Tutorial\"\n",
    "x=re.search(\"Python\",txt)\n",
    "print(\"The python word is located in position\",x.start())\n"
   ]
  },
  {
   "cell_type": "markdown",
   "id": "3232a681",
   "metadata": {},
   "source": [
    "### Example 2"
   ]
  },
  {
   "cell_type": "code",
   "execution_count": 13,
   "id": "f0a5e98b",
   "metadata": {},
   "outputs": [
    {
     "name": "stdout",
     "output_type": "stream",
     "text": [
      "The first whitespace: <re.Match object; span=(2, 3), match=' '>\n"
     ]
    }
   ],
   "source": [
    "import re\n",
    "txt=\"We are learning python\"\n",
    "x=re.search(\"\\s\",txt) #This expression is written for searching whitespace\n",
    "print(\"The first whitespace:\",x)\n"
   ]
  },
  {
   "cell_type": "markdown",
   "id": "9ef5eabb",
   "metadata": {},
   "source": [
    "## split() function"
   ]
  },
  {
   "cell_type": "markdown",
   "id": "3536bcb1",
   "metadata": {},
   "source": [
    "### Example"
   ]
  },
  {
   "cell_type": "code",
   "execution_count": 4,
   "id": "278b6af9",
   "metadata": {},
   "outputs": [
    {
     "name": "stdout",
     "output_type": "stream",
     "text": [
      "['Python', 'BTCCE', 'Tutorial']\n"
     ]
    }
   ],
   "source": [
    "import re\n",
    "txt=\"Python BTCCE Tutorial\"\n",
    "x=re.split(\"\\s\",txt)\n",
    "print(x)"
   ]
  },
  {
   "cell_type": "markdown",
   "id": "4e7f92d0",
   "metadata": {},
   "source": [
    "## Match function"
   ]
  },
  {
   "cell_type": "code",
   "execution_count": 12,
   "id": "84db9ae1",
   "metadata": {},
   "outputs": [
    {
     "name": "stdout",
     "output_type": "stream",
     "text": [
      "<re.Match object; span=(0, 3), match='abc'>\n",
      "\n",
      "None\n",
      "\n",
      "<re.Match object; span=(0, 4), match='abcd'>\n"
     ]
    }
   ],
   "source": [
    "import re\n",
    "pattern=\"^abc\"\n",
    "mystring=\"abcdef\"\n",
    "x=re.match(pattern,mystring)\n",
    "print(x)\n",
    "print()\n",
    "pattern=\"^abc\"\n",
    "mystring=\"bcdef\"\n",
    "x=re.match(pattern,mystring)\n",
    "print(x)\n",
    "print()\n",
    "pattern=\"^abcd\"\n",
    "mystring=\"abcdef\"\n",
    "x=re.match(pattern,mystring)\n",
    "print(x)"
   ]
  },
  {
   "cell_type": "markdown",
   "id": "ba2c918a",
   "metadata": {},
   "source": [
    "\n",
    "  "
   ]
  }
 ],
 "metadata": {
  "kernelspec": {
   "display_name": "Python 3 (ipykernel)",
   "language": "python",
   "name": "python3"
  },
  "language_info": {
   "codemirror_mode": {
    "name": "ipython",
    "version": 3
   },
   "file_extension": ".py",
   "mimetype": "text/x-python",
   "name": "python",
   "nbconvert_exporter": "python",
   "pygments_lexer": "ipython3",
   "version": "3.10.9"
  }
 },
 "nbformat": 4,
 "nbformat_minor": 5
}
